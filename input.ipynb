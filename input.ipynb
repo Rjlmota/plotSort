{
 "cells": [
  {
   "cell_type": "code",
   "execution_count": 2,
   "metadata": {},
   "outputs": [
    {
     "name": "stdout",
     "output_type": "stream",
     "text": [
      "\n",
      "\n",
      "\n"
     ]
    },
    {
     "data": {
      "image/png": "[encoded data removed]",
      "text/plain": [
       "<Figure size 432x288 with 2 Axes>"
      ]
     },
     "metadata": {},
     "output_type": "display_data"
    }
   ],
   "source": [
    "import random\n",
    "import matplotlib.pyplot as plt\n",
    "import numpy as np\n",
    "def randomize(size, spec = 'random'):\n",
    "  arr = []\n",
    "  if(spec == 'random'):\n",
    "    for i in range(size):\n",
    "      arr.append(random.randint(0, size))\n",
    "\n",
    "  elif(spec == 'sorted'):\n",
    "    for i in range(size):\n",
    "      arr.append(i)\n",
    "\n",
    "  elif(spec == 'reversed'):\n",
    "    for i in reversed(range(size)):\n",
    "      arr.append(i)\n",
    "\n",
    "\n",
    "    \n",
    "  elif(spec == 'uniform'):\n",
    "      arr = np.random.uniform(0, size/2, size)\n",
    "    \n",
    "  elif(spec == 'notUniform'):\n",
    "    for i in (range(size)):\n",
    "      if (random.uniform(0, 1) > 0.5):\n",
    "        arr.append(random.randint(0, int(size/2)))\n",
    "      else:\n",
    "        arr.append(random.randint(0, size))\n",
    "\n",
    "  elif(spec == 'lowCap'):\n",
    "    for i in range(size):\n",
    "      arr.append(random.randint(0, int(size/4)))\n",
    "\n",
    "  elif(spec == 'lowCap2'):\n",
    "    for i in range(size):\n",
    "      arr.append(random.randint(0, int(size/8)))\n",
    "\n",
    "  elif(spec == 'lowCapMax'):\n",
    "    for i in range(size):\n",
    "      arr.append(random.randint(0, 10))\n",
    "    \n",
    "  elif(spec == 'lowCapMax2'):\n",
    "    for i in range(size):\n",
    "        if(random.uniform(0, 1) > 0.7):\n",
    "            arr.append(random.randint(int(size/4), size))\n",
    "        else:\n",
    "            arr.append(random.randint(0, int(size/4)))\n",
    "\n",
    "  return arr\n",
    "\n",
    "\n",
    "\n",
    "\n",
    "\n",
    "\n",
    "\n",
    "\n",
    "teste = randomize(10000)\n",
    "notUniform = randomize(10000, 'lowCapMax2')\n",
    "uniform = randomize(10000, 'uniform')\n",
    "random = randomize(10000, 'random')\n",
    "\n",
    "\n",
    "plt.figure(1)\n",
    "plt.subplot(212)\n",
    "plt.title('Uniform')\n",
    "plt.hist(uniform, bins='auto')\n",
    "plt.subplot(311)\n",
    "print('\\n\\n')\n",
    "plt.title('Not uniform')\n",
    "plt.hist(notUniform, bins='auto')\n",
    "\n",
    "\n",
    "\n",
    "plt.show()"
   ]
  },
  {
   "cell_type": "code",
   "execution_count": 3,
   "metadata": {},
   "outputs": [
    {
     "name": "stdout",
     "output_type": "stream",
     "text": [
      "\n",
      "\n",
      "\n"
     ]
    },
    {
     "data": {
      "image/png": "[encoded data removed]",
      "text/plain": [
       "<Figure size 432x288 with 1 Axes>"
      ]
     },
     "metadata": {},
     "output_type": "display_data"
    }
   ],
   "source": [
    "print('\\n\\n')\n",
    "plt.title('Random')\n",
    "plt.hist(random, bins='auto')\n",
    "plt.show()"
   ]
  }
 ],
 "metadata": {
  "kernelspec": {
   "display_name": "Python 3",
   "language": "python",
   "name": "python3"
  },
  "language_info": {
   "codemirror_mode": {
    "name": "ipython",
    "version": 3
   },
   "file_extension": ".py",
   "mimetype": "text/x-python",
   "name": "python",
   "nbconvert_exporter": "python",
   "pygments_lexer": "ipython3",
   "version": "3.6.5"
  }
 },
 "nbformat": 4,
 "nbformat_minor": 2
}
